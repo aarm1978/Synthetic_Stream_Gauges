version https://git-lfs.github.com/spec/v1
oid sha256:0ecf82f1b4fb28dc64c670d28677702914966f683d75c97f32539e1ccbb0ca5a
size 124398
